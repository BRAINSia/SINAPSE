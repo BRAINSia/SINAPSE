{
 "cells": [
  {
   "cell_type": "markdown",
   "metadata": {},
   "source": [
    "## Validate algorithm that Finds Eyes in images.\n",
    "\n",
    "An algorithm exists that finds many fiducial points (landmark points) in a human MRI brain scan.  The most common failure of this algorithm is an inability to find the Eye lanndmark points in the first stage of the algorithm.  We currently have over 12,000 brain scans processed across 7 different projects.\n",
    "\n",
    "We need to visually inspect eveery data set to evaluate if the eyes are properly identified with a landmark point approimately in the center of the eye (any landmark that is near the middle of the eye is acceptable.)\n",
    "\n",
    "The eyes are labeled as `RE` for the right eye and `LE` fro the left eye.  The eyes are approximately `30mm` diameter.  The images do not all have the spaceing for the sampling.\n",
    "\n",
    "The Landmark files are simple ASCII files that can be easily read with the pandas toolikt\n",
    "\n",
    "```\n",
    "# Markups fiducial file version = 4.6\n",
    "# CoordinateSystem = 0\n",
    "# columns = id,x,y,z,ow,ox,oy,oz,vis,sel,lock,label,desc,associatedNodeID\n",
    "vtkMRMLMarkupsFiducialNode_0,0,0,0,0,0,0,1,1,1,0,AC,,\n",
    "vtkMRMLMarkupsFiducialNode_1,0.00009494799228537687,-30.201098915930984,-44.52037286965537,0,0,0,1,1,1,0,BPons,,\n",
    "```\n",
    "\n",
    "1. The HTML report should have 2D RGB snapshot images written in `.png` format of a region around the eye (1 image for left eye, 1 image for right eye) at the location of the eye fiducial.\n",
    "1. Rescale each image into a range of values from 0-255.\n",
    "1. Use an identity transform to resample the original image into a physical space with origin at ( $LE_{L} - 15mm$, $LE_{P}-15mm$, $LE_{S}$ ), with isotropic voxels and a $30mm \\times 30mm \\times 1voxel$ field of view, and identity direction cosing.  (Remember $_{LPS}$ stands for the DICOM standard $L$eft, $P$osterior, $S$uperior designations This image should be an unsiged char greyscale scalar image.  \n",
    "1. Convert the 3D image into a 2D image (https://itk.org/Doxygen/html/classitk_1_1ExtractImageFilter.html) that is again a scalar image.\n",
    "1. Convert the 2D scalar image into a 3D RGB imaage where the R,G, &B channels are all the same values\n",
    "1. Change the pixel at the index location to pure Red for the Right Eye, and pure Blue for the Left Eye"
   ]
  },
  {
   "cell_type": "code",
   "execution_count": 46,
   "metadata": {},
   "outputs": [],
   "source": [
    "import glob\n",
    "import os\n",
    "import pandas as pd\n",
    "import numpy as np\n",
    "from matplotlib import pyplot as plt\n",
    "import SimpleITK as sitk"
   ]
  },
  {
   "cell_type": "code",
   "execution_count": 47,
   "metadata": {},
   "outputs": [],
   "source": [
    "def getLandmarksFromFCSVFile(file):\n",
    "    df = pd.read_csv(file, header=None, comment=\"#\")\n",
    "    if df.shape[1] == 6:\n",
    "        df.columns = [\"label\", \"x\", \"y\", \"z\", \"sel\", \"vis\"]\n",
    "    elif df.shape[1] == 14:\n",
    "        df.columns = [\n",
    "            \"id\",\n",
    "            \"x\",\n",
    "            \"y\",\n",
    "            \"z\",\n",
    "            \"ow\",\n",
    "            \"ox\",\n",
    "            \"oy\",\n",
    "            \"oz\",\n",
    "            \"vis\",\n",
    "            \"sel\",\n",
    "            \"lock\",\n",
    "            \"label\",\n",
    "            \"desc\",\n",
    "            \"associatedNodeID\",\n",
    "        ]\n",
    "    else:\n",
    "        raise \"Please check your input FCSV file\"\n",
    "    # the sign flipping in x and y is to convert RAS(used by slicer) to LPS(used in DICOM and itk)\n",
    "    xcoord = -1 * df[\"x\"].values.reshape(-1, 1)\n",
    "    ycoord = -1 * df[\"y\"].values.reshape(-1, 1)\n",
    "    zcoord = df[\"z\"].values.reshape(-1, 1)\n",
    "    vec = np.concatenate((xcoord, ycoord, zcoord), axis=1).reshape(-1, 3)\n",
    "    return dict(zip(df[\"label\"], vec))"
   ]
  },
  {
   "cell_type": "code",
   "execution_count": 48,
   "metadata": {},
   "outputs": [],
   "source": [
    "def getImage(lmksfile, imgfile, name, color):\n",
    "    fidDict = getLandmarksFromFCSVFile(lmksfile)\n",
    "    fid = fidDict[name]\n",
    "    output_size = (30, 30, 1)\n",
    "    output_spacing = (1, 1, 1) #DOUBT\n",
    "    offset = np.array([15, 15, 1])\n",
    "    identity_transform = sitk.Transform(3, sitk.sitkIdentity)\n",
    "    sitk_image = sitk.ReadImage(imgfile, sitk.sitkFloat32)\n",
    "    rif = sitk.ResampleImageFilter()\n",
    "    rif.SetOutputSpacing(output_spacing)\n",
    "    rif.SetTransform(identity_transform)\n",
    "    rif.SetOutputOrigin(tuple(np.array(fid) - offset))\n",
    "    rif.SetOutputDirection([1, 0, 0, 0, 1, 0, 0, 0, 1])\n",
    "    rif.SetSize(output_size)\n",
    "    img = rif.Execute(sitk_image)\n",
    "    img = sitk.RescaleIntensity(\n",
    "                    img, outputMinimum=0, outputMaximum=255\n",
    "                )\n",
    "    img = sitk.GetArrayFromImage(img).T[:, :, 0]\n",
    "    img = np.dstack((img, img, img))\n",
    "    img = np.round(img).astype(int)\n",
    "    img[14, 14, :] = color\n",
    "    plt.imsave('./images/'+os.path.basename(lmksfile)[:-9]+'_{}.png'.format(name), img)"
   ]
  },
  {
   "cell_type": "code",
   "execution_count": 49,
   "metadata": {},
   "outputs": [],
   "source": [
    "path = 'YOUR_PATH_HERE'\n",
    "Fids = ['LE', 'RE']\n",
    "Colors = [[0, 0, 255], [255, 0, 0]]"
   ]
  },
  {
   "cell_type": "code",
   "execution_count": 50,
   "metadata": {},
   "outputs": [],
   "source": [
    "if not os.path.isdir('./images/'):\n",
    "    os.mkdir('./images/')"
   ]
  },
  {
   "cell_type": "code",
   "execution_count": 51,
   "metadata": {},
   "outputs": [],
   "source": [
    "all_fcsvs = [f for f in glob.glob(path + \"**/*_lmks.fcsv\", recursive=True)]\n",
    "with open('report.html','w') as htmlfid:\n",
    "    htmlfid.write(\"<!DOCTYPE html>\\n\")\n",
    "    htmlfid.write(\"<html>\\n\")\n",
    "    htmlfid.write(\"<head>\\n\")\n",
    "    htmlfid.write(\"<style>\\n\")\n",
    "    htmlfid.write(\"table, td, th {\\n\")\n",
    "    htmlfid.write(\"border: 1px solid black;\\n\")\n",
    "    htmlfid.write(\"}\\n\")\n",
    "    htmlfid.write(\"</style>\\n\")\n",
    "    htmlfid.write(\"</head>\\n\")\n",
    "    htmlfid.write('<body>\\n')\n",
    "    htmlfid.write('<h1>{0}</h1>\\n'.format(\"Fiducial Point Report\"))\n",
    "    htmlfid.write('<p>{0}</p>\\n'.format(\"Author: Arjit Jain (hawkid=arjjain)\"))\n",
    "    htmlfid.write('<p>{0}</p>\\n'.format(\"Fiducial Points Evaluate: {0}\".format(\", \".join(Fids))))\n",
    "    htmlfid.write('<table>\\n')        \n",
    "    fids_th_str = \"\"\n",
    "    for fid in Fids:\n",
    "        fids_th_str = \"{recur}<th>{fid_th}</th>\".format(recur=fids_th_str, fid_th=fid)\n",
    "    htmlfid.write('<tr><th> subject </th>{th_fids}'.format(th_fids=fids_th_str))\n",
    "    for i in range(len(all_fcsvs)):\n",
    "        fid_fn = all_fcsvs[i]\n",
    "        img_fn = fid_fn[:-9]+'T1w.nii.gz'\n",
    "        htmlfid.write('  <tr>\\n')\n",
    "        htmlfid.write('     <td>{}</td>\\n'.format(os.path.basename(fid_fn)))\n",
    "        for i in range(len(Fids)):\n",
    "            getImage(fid_fn, img_fn, Fids[i], Colors[i])\n",
    "            htmlfid.write('     <td><img src=\"{}\" width=\"200\" height=\"80\"></td>\\n'.format('./images/'+os.path.basename(fid_fn)[:-9]+'_{}.png'.format(Fids[i])))\n",
    "        htmlfid.write('  </tr>\\n')\n",
    "    htmlfid.write('</table>\\n')\n",
    "    htmlfid.write('</body>\\n')\n",
    "    htmlfid.write('</html>\\n')"
   ]
  }
 ],
 "metadata": {
  "kernelspec": {
   "display_name": "Python 3",
   "language": "python",
   "name": "python3"
  },
  "language_info": {
   "codemirror_mode": {
    "name": "ipython",
    "version": 3
   },
   "file_extension": ".py",
   "mimetype": "text/x-python",
   "name": "python",
   "nbconvert_exporter": "python",
   "pygments_lexer": "ipython3",
   "version": "3.6.7"
  }
 },
 "nbformat": 4,
 "nbformat_minor": 2
}
