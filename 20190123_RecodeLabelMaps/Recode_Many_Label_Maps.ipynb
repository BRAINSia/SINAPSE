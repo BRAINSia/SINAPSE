{
 "cells": [
  {
   "cell_type": "code",
   "execution_count": 33,
   "metadata": {},
   "outputs": [],
   "source": [
    "import os\n",
    "import re\n",
    "import flip_labels\n",
    "import subprocess"
   ]
  },
  {
   "cell_type": "code",
   "execution_count": 42,
   "metadata": {},
   "outputs": [
    {
     "name": "stdout",
     "output_type": "stream",
     "text": [
      "python flip_labels.py -image_in /Shared/johnsonhj/2018Projects/20181002_LesionMappingBAW/20181017_niftinet_data_inputs/images/0238_79649_dense_seg.nii.gz -image_out /Shared/johnsonhj/2018Projects/20181002_LesionMappingBAW/20181017_niftinet_data_inputs/images/0238_79649_dense_seg_lr_combined.nii.gz -LUT_in /Shared/johnsonhj/2018Projects/20181002_LesionMappingBAW/20181017_niftinet_data_inputs/images/BAWHDAdultAtlas_FreeSurferConventionColorLUT_20160524.txt\n"
     ]
    },
    {
     "data": {
      "text/plain": [
       "'Eye Distance.ipynb\\nEye Distance.py\\nFlip-Labels\\nflip_labels.html\\nflip_labels.ipynb\\nflip_labels.py\\nflip_labels.pyc\\nniigz_to_png.ipynb\\nniigz_to_png.py\\nRecode_Many_Label_Maps.ipynb\\nResearch_Wiki\\nTRIO_TRIO_MR2_t1w_x.png\\nTRIO_TRIO_MR2_t1w_y.png\\nTRIO_TRIO_MR2_t1w_z.png\\n'"
      ]
     },
     "execution_count": 42,
     "metadata": {},
     "output_type": "execute_result"
    }
   ],
   "source": [
    "dir_path = '/Shared/johnsonhj/2018Projects/20181002_LesionMappingBAW/20181017_niftinet_data_inputs/images/'\n",
    "lut_name = 'BAWHDAdultAtlas_FreeSurferConventionColorLUT_20160524.txt'\n",
    "input_image = \"\"\n",
    "output_image = \"\"\n",
    "for file in os.listdir(dir_path):\n",
    "    pattern = re.compile(\"\\w*_dense_seg.nii.gz\")\n",
    "    if pattern.match(file):\n",
    "        input_image = file\n",
    "        output_image = input_image.split(\".\")[0] + \"_lr_combined.nii.gz\"\n",
    "command = \"python flip_labels.py \" + \"-image_in \" + dir_path+input_image + \" -image_out \" + dir_path+output_image + \" -LUT_in \" + dir_path+lut_name\n",
    "print(command)\n",
    "subprocess.check_output(\"ls\")\n",
    "# something = os.system(command)\n",
    "# os.system(\"ls\")"
   ]
  },
  {
   "cell_type": "code",
   "execution_count": null,
   "metadata": {},
   "outputs": [],
   "source": []
  }
 ],
 "metadata": {
  "kernelspec": {
   "display_name": "Python 2",
   "language": "python",
   "name": "python2"
  },
  "language_info": {
   "codemirror_mode": {
    "name": "ipython",
    "version": 2
   },
   "file_extension": ".py",
   "mimetype": "text/x-python",
   "name": "python",
   "nbconvert_exporter": "python",
   "pygments_lexer": "ipython2",
   "version": "2.7.15rc1"
  }
 },
 "nbformat": 4,
 "nbformat_minor": 2
}
