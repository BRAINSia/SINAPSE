{
 "cells": [
  {
   "cell_type": "code",
   "execution_count": 11,
   "metadata": {},
   "outputs": [],
   "source": [
    "import glob\n",
    "import csv"
   ]
  },
  {
   "cell_type": "code",
   "execution_count": 12,
   "metadata": {},
   "outputs": [
    {
     "name": "stdout",
     "output_type": "stream",
     "text": [
      "Wrote 6213 file paths\n",
      "done\n"
     ]
    }
   ],
   "source": [
    "putamen_files = glob.glob(\"/Shared/johnsonhj/2018Projects/20181002_LesionMappingBAW/20181017_niftinet_data_inputs/images/*putamen_dense_seg.png\")\n",
    "csv_file = \"/Shared/johnsonhj/2018Projects/20181112_RecodeLabelMaps/src/Identify_Putamen/available_putamen.csv\"\n",
    "with open(csv_file, \"w\") as output:\n",
    "    writer = csv.writer(output, lineterminator='\\n')\n",
    "    writer.writerow([\"file_path\"])\n",
    "    i = 0\n",
    "    for file_path in putamen_files:\n",
    "        writer.writerow([file_path])\n",
    "        i += 1\n",
    "    writer.writerow([\"0\"])\n",
    "print(\"Wrote {0} file paths\".format(i))\n",
    "print(\"done\")"
   ]
  },
  {
   "cell_type": "code",
   "execution_count": null,
   "metadata": {},
   "outputs": [],
   "source": []
  }
 ],
 "metadata": {
  "kernelspec": {
   "display_name": "Python 2",
   "language": "python",
   "name": "python2"
  },
  "language_info": {
   "codemirror_mode": {
    "name": "ipython",
    "version": 2
   },
   "file_extension": ".py",
   "mimetype": "text/x-python",
   "name": "python",
   "nbconvert_exporter": "python",
   "pygments_lexer": "ipython2",
   "version": "2.7.15rc1"
  }
 },
 "nbformat": 4,
 "nbformat_minor": 2
}
