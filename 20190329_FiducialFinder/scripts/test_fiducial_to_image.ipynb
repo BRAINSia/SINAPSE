{
 "cells": [
  {
   "cell_type": "code",
   "execution_count": 38,
   "metadata": {},
   "outputs": [],
   "source": [
    "import SimpleITK as sitk\n",
    "import os\n",
    "import json\n",
    "import pandas as pd\n",
    "import csv\n",
    "from fiducial_to_image import extract_fiducials\n",
    "import ntpath"
   ]
  },
  {
   "cell_type": "code",
   "execution_count": 76,
   "metadata": {
    "scrolled": true
   },
   "outputs": [
    {
     "name": "stdout",
     "output_type": "stream",
     "text": [
      "0001_27588_RE_LE\n",
      "0001_27588_RE_LE\n",
      "0001_27588\n",
      "Untitled\n",
      "0001_27588_LE\n",
      ".ipynb_checkpoints\n",
      ".gitignore\n",
      "0001_27588_RE_LE\n",
      "0001_27588_t1w\n",
      "0009_57221\n",
      "0009_57221_seg\n",
      "Untitled1\n",
      "0009_57221_t1w\n",
      "0001_27588_RE\n",
      "0009_57221_t2w\n",
      "0001_27588_seg\n",
      "0001_27588_t2w\n"
     ]
    }
   ],
   "source": [
    "for file in os.listdir(\"../SmallData/\"):\n",
    "    base, _ = os.path.splitext(file)\n",
    "    base, _ = os.path.splitext(base)\n",
    "    print(base)"
   ]
  },
  {
   "cell_type": "code",
   "execution_count": 10,
   "metadata": {},
   "outputs": [],
   "source": [
    "# returns \"_RE_LE\"\n",
    "def get_fiducial_file_identifier():\n",
    "    fid_file_identifier = \"\"\n",
    "    fids = get_fiducial_keys()\n",
    "    for fid in fids:\n",
    "        fid_file_identifier += \"_\" + fid\n",
    "    return fid_file_identifier"
   ]
  },
  {
   "cell_type": "code",
   "execution_count": 7,
   "metadata": {},
   "outputs": [],
   "source": [
    "# Returns ['RE', 'LE']\n",
    "def get_fiducial_keys():\n",
    "    fids = []\n",
    "    with open(\"../fiducials.json\", \"rb\") as f:\n",
    "        fids = json.load(f)['fiducials']\n",
    "    return fids"
   ]
  },
  {
   "cell_type": "code",
   "execution_count": 52,
   "metadata": {},
   "outputs": [],
   "source": [
    "\n",
    "def get_expected_fiducial_data(file_path):\n",
    "    fcsv_filename = ntpath.basename(file_path)\n",
    "    image_name_prefix, _ = os.path.splitext(fcsv_filename)\n",
    "    image_name = image_name_prefix + \"_t1w.nii.gz\"\n",
    "    image_path = file_path.replace(fcsv_filename, \"\") + image_name\n",
    "    image = sitk.ReadImage(image_path)\n",
    "    ordered_fiducials = extract_fiducials(file_path)\n",
    "    expected_fiducial_data = []\n",
    "    for fiducial_key in get_fiducial_keys():\n",
    "        expected_index_data = image.TransformPhysicalPointToIndex(ordered_fiducials[fiducial_key])\n",
    "        expected_fiducial_data.extend(expected_index_data)\n",
    "    return expected_fiducial_data"
   ]
  },
  {
   "cell_type": "code",
   "execution_count": 58,
   "metadata": {},
   "outputs": [],
   "source": [
    "def main():\n",
    "    file_path = \"../SmallDataTest/0001_27588.fcsv\"\n",
    "    print(get_expected_fiducial_data(file_path))"
   ]
  },
  {
   "cell_type": "code",
   "execution_count": 59,
   "metadata": {},
   "outputs": [
    {
     "name": "stdout",
     "output_type": "stream",
     "text": [
      "[97, 79, 107, 155, 80, 106]\n"
     ]
    }
   ],
   "source": [
    "if __name__ == \"__main__\":\n",
    "    main()"
   ]
  },
  {
   "cell_type": "code",
   "execution_count": null,
   "metadata": {},
   "outputs": [],
   "source": []
  }
 ],
 "metadata": {
  "kernelspec": {
   "display_name": "Python 3",
   "language": "python",
   "name": "python3"
  },
  "language_info": {
   "codemirror_mode": {
    "name": "ipython",
    "version": 3
   },
   "file_extension": ".py",
   "mimetype": "text/x-python",
   "name": "python",
   "nbconvert_exporter": "python",
   "pygments_lexer": "ipython3",
   "version": "3.6.7"
  }
 },
 "nbformat": 4,
 "nbformat_minor": 2
}
